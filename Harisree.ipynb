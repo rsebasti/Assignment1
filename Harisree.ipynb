{
  "nbformat": 4,
  "nbformat_minor": 0,
  "metadata": {
    "colab": {
      "name": "Harisree.ipynb",
      "provenance": [],
      "authorship_tag": "ABX9TyNXJq71oNRs98YQ1uATJ2IK",
      "include_colab_link": true
    },
    "kernelspec": {
      "name": "python3",
      "display_name": "Python 3"
    }
  },
  "cells": [
    {
      "cell_type": "markdown",
      "metadata": {
        "id": "view-in-github",
        "colab_type": "text"
      },
      "source": [
        "<a href=\"https://colab.research.google.com/github/rsebasti/Assignment1/blob/master/Harisree.ipynb\" target=\"_parent\"><img src=\"https://colab.research.google.com/assets/colab-badge.svg\" alt=\"Open In Colab\"/></a>"
      ]
    },
    {
      "cell_type": "code",
      "metadata": {
        "id": "5KolsZlM_3QB",
        "colab_type": "code",
        "colab": {
          "base_uri": "https://localhost:8080/",
          "height": 35
        },
        "outputId": "52614c8c-7873-462e-bce8-32be86d15040"
      },
      "source": [
        "print(\"Hello Utopia\")"
      ],
      "execution_count": 1,
      "outputs": [
        {
          "output_type": "stream",
          "text": [
            "Hello Utopia\n"
          ],
          "name": "stdout"
        }
      ]
    }
  ]
}